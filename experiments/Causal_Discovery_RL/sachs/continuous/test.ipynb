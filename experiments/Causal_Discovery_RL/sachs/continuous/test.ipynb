{
 "cells": [
  {
   "cell_type": "code",
   "execution_count": 1,
   "metadata": {},
   "outputs": [
    {
     "data": {
      "text/plain": [
       "array([[ 26.4 ,  13.2 ,   8.82, ...,  17.  ,  44.9 ,  40.  ],\n",
       "       [ 35.9 ,  16.5 ,  12.3 , ...,   3.37,  16.5 ,  61.5 ],\n",
       "       [ 59.4 ,  44.1 ,  14.6 , ...,  11.4 ,  31.9 ,  19.5 ],\n",
       "       ...,\n",
       "       [103.  ,  32.2 ,  10.2 , ...,  14.5 ,  22.9 ,   5.23],\n",
       "       [ 77.7 ,  23.7 ,  24.8 , ...,  32.2 ,  83.5 ,  27.1 ],\n",
       "       [ 46.6 ,  15.  ,   8.51, ...,  20.9 ,  36.8 ,   9.65]])"
      ]
     },
     "execution_count": 1,
     "metadata": {},
     "output_type": "execute_result"
    }
   ],
   "source": [
    "import numpy as np\n",
    "\n",
    "data = np.load(\"./data1.npy\")\n",
    "data"
   ]
  },
  {
   "cell_type": "code",
   "execution_count": 2,
   "metadata": {},
   "outputs": [
    {
     "data": {
      "text/plain": [
       "853"
      ]
     },
     "execution_count": 2,
     "metadata": {},
     "output_type": "execute_result"
    }
   ],
   "source": [
    "len(data)"
   ]
  }
 ],
 "metadata": {
  "interpreter": {
   "hash": "cedb9ad5d8ca8e9f374c9a1f948484700d1a001944ad34aa0c9ee8d7ff94b684"
  },
  "kernelspec": {
   "display_name": "Python 3.6.13 64-bit ('rlbn': conda)",
   "language": "python",
   "name": "python3"
  },
  "language_info": {
   "codemirror_mode": {
    "name": "ipython",
    "version": 3
   },
   "file_extension": ".py",
   "mimetype": "text/x-python",
   "name": "python",
   "nbconvert_exporter": "python",
   "pygments_lexer": "ipython3",
   "version": "3.6.13"
  },
  "orig_nbformat": 4
 },
 "nbformat": 4,
 "nbformat_minor": 2
}
